{
    "cells": [
        {
            "metadata": {
                "collapsed": true
            },
            "cell_type": "markdown",
            "source": "# HELLO CAPSTONE PROJECT COURSE!"
        },
        {
            "metadata": {},
            "cell_type": "markdown",
            "source": "This notebook is created in the scope of \"Data Science Professional Certificate\" course track provided by IBM in Coursera. Aim of the project is to use the things taught throughout the project to come up with a creative analysis called **\"The Battle of Neighborhoods\"**. \n\nSo what we will do is given a city like the City of Toronto, we will segment it into different neighborhoods using the geographical coordinates of the center of each neighborhood, and then using a combination of location data and machine learning, we will group the neighbourhoods into clusters.\n\n*__Let's dive into it!__*"
        },
        {
            "metadata": {},
            "cell_type": "markdown",
            "source": "# Week 3 - Part 1 : Scraping data "
        },
        {
            "metadata": {},
            "cell_type": "code",
            "source": "!conda install beautifulsoup4\n!conda install lxml\n!conda install requests\n\nprint(\"Downloaded!\")",
            "execution_count": null,
            "outputs": []
        },
        {
            "metadata": {},
            "cell_type": "code",
            "source": "from bs4 import BeautifulSoup\nimport requests",
            "execution_count": 1,
            "outputs": []
        },
        {
            "metadata": {},
            "cell_type": "code",
            "source": "url = 'https://en.wikipedia.org/wiki/List_of_postal_codes_of_Canada:_M'   # this is the wikipedia page we want to scrape from\n\npage_response = requests.get(url, timeout=5)  # here, we fetch the content from the url, using the requests library\npage_content = BeautifulSoup(page_response.content, \"lxml\")  #we use the lxml parser to parse the url content and store it in a variable\n# print(page_content.prettify()) \n",
            "execution_count": 2,
            "outputs": []
        },
        {
            "metadata": {},
            "cell_type": "code",
            "source": "match=page_content.find('tbody') #finding the relevant part in html \nrows=match.find_all('tr') \nprint(rows)\n",
            "execution_count": 3,
            "outputs": [
                {
                    "output_type": "stream",
                    "text": "[<tr>\n<th>Postal code\n</th>\n<th>Borough\n</th>\n<th>Neighborhood\n</th></tr>, <tr>\n<td>M1A\n</td>\n<td>Not assigned\n</td>\n<td>\n</td></tr>, <tr>\n<td>M2A\n</td>\n<td>Not assigned\n</td>\n<td>\n</td></tr>, <tr>\n<td>M3A\n</td>\n<td>North York\n</td>\n<td>Parkwoods\n</td></tr>, <tr>\n<td>M4A\n</td>\n<td>North York\n</td>\n<td>Victoria Village\n</td></tr>, <tr>\n<td>M5A\n</td>\n<td>Downtown Toronto\n</td>\n<td>Regent Park / Harbourfront\n</td></tr>, <tr>\n<td>M6A\n</td>\n<td>North York\n</td>\n<td>Lawrence Manor / Lawrence Heights\n</td></tr>, <tr>\n<td>M7A\n</td>\n<td>Downtown Toronto\n</td>\n<td>Queen's Park / Ontario Provincial Government\n</td></tr>, <tr>\n<td>M8A\n</td>\n<td>Not assigned\n</td>\n<td>\n</td></tr>, <tr>\n<td>M9A\n</td>\n<td>Etobicoke\n</td>\n<td>Islington Avenue\n</td></tr>, <tr>\n<td>M1B\n</td>\n<td>Scarborough\n</td>\n<td>Malvern / Rouge\n</td></tr>, <tr>\n<td>M2B\n</td>\n<td>Not assigned\n</td>\n<td>\n</td></tr>, <tr>\n<td>M3B\n</td>\n<td>North York\n</td>\n<td>Don Mills\n</td></tr>, <tr>\n<td>M4B\n</td>\n<td>East York\n</td>\n<td>Parkview Hill / Woodbine Gardens\n</td></tr>, <tr>\n<td>M5B\n</td>\n<td>Downtown Toronto\n</td>\n<td>Garden District, Ryerson\n</td></tr>, <tr>\n<td>M6B\n</td>\n<td>North York\n</td>\n<td>Glencairn\n</td></tr>, <tr>\n<td>M7B\n</td>\n<td>Not assigned\n</td>\n<td>\n</td></tr>, <tr>\n<td>M8B\n</td>\n<td>Not assigned\n</td>\n<td>\n</td></tr>, <tr>\n<td>M9B\n</td>\n<td>Etobicoke\n</td>\n<td>West Deane Park / Princess Gardens / Martin Grove / Islington / Cloverdale\n</td></tr>, <tr>\n<td>M1C\n</td>\n<td>Scarborough\n</td>\n<td>Rouge Hill / Port Union / Highland Creek\n</td></tr>, <tr>\n<td>M2C\n</td>\n<td>Not assigned\n</td>\n<td>\n</td></tr>, <tr>\n<td>M3C\n</td>\n<td>North York\n</td>\n<td>Don Mills\n</td></tr>, <tr>\n<td>M4C\n</td>\n<td>East York\n</td>\n<td>Woodbine Heights\n</td></tr>, <tr>\n<td>M5C\n</td>\n<td>Downtown Toronto\n</td>\n<td>St. James Town\n</td></tr>, <tr>\n<td>M6C\n</td>\n<td>York\n</td>\n<td>Humewood-Cedarvale\n</td></tr>, <tr>\n<td>M7C\n</td>\n<td>Not assigned\n</td>\n<td>\n</td></tr>, <tr>\n<td>M8C\n</td>\n<td>Not assigned\n</td>\n<td>\n</td></tr>, <tr>\n<td>M9C\n</td>\n<td>Etobicoke\n</td>\n<td>Eringate / Bloordale Gardens / Old Burnhamthorpe / Markland Wood\n</td></tr>, <tr>\n<td>M1E\n</td>\n<td>Scarborough\n</td>\n<td>Guildwood / Morningside / West Hill\n</td></tr>, <tr>\n<td>M2E\n</td>\n<td>Not assigned\n</td>\n<td>\n</td></tr>, <tr>\n<td>M3E\n</td>\n<td>Not assigned\n</td>\n<td>\n</td></tr>, <tr>\n<td>M4E\n</td>\n<td>East Toronto\n</td>\n<td>The Beaches\n</td></tr>, <tr>\n<td>M5E\n</td>\n<td>Downtown Toronto\n</td>\n<td>Berczy Park\n</td></tr>, <tr>\n<td>M6E\n</td>\n<td>York\n</td>\n<td>Caledonia-Fairbanks\n</td></tr>, <tr>\n<td>M7E\n</td>\n<td>Not assigned\n</td>\n<td>\n</td></tr>, <tr>\n<td>M8E\n</td>\n<td>Not assigned\n</td>\n<td>\n</td></tr>, <tr>\n<td>M9E\n</td>\n<td>Not assigned\n</td>\n<td>\n</td></tr>, <tr>\n<td>M1G\n</td>\n<td>Scarborough\n</td>\n<td>Woburn\n</td></tr>, <tr>\n<td>M2G\n</td>\n<td>Not assigned\n</td>\n<td>\n</td></tr>, <tr>\n<td>M3G\n</td>\n<td>Not assigned\n</td>\n<td>\n</td></tr>, <tr>\n<td>M4G\n</td>\n<td>East York\n</td>\n<td>Leaside\n</td></tr>, <tr>\n<td>M5G\n</td>\n<td>Downtown Toronto\n</td>\n<td>Central Bay Street\n</td></tr>, <tr>\n<td>M6G\n</td>\n<td>Downtown Toronto\n</td>\n<td>Christie\n</td></tr>, <tr>\n<td>M7G\n</td>\n<td>Not assigned\n</td>\n<td>\n</td></tr>, <tr>\n<td>M8G\n</td>\n<td>Not assigned\n</td>\n<td>\n</td></tr>, <tr>\n<td>M9G\n</td>\n<td>Not assigned\n</td>\n<td>\n</td></tr>, <tr>\n<td>M1H\n</td>\n<td>Scarborough\n</td>\n<td>Cedarbrae\n</td></tr>, <tr>\n<td>M2H\n</td>\n<td>North York\n</td>\n<td>Hillcrest Village\n</td></tr>, <tr>\n<td>M3H\n</td>\n<td>North York\n</td>\n<td>Bathurst Manor / Wilson Heights / Downsview North\n</td></tr>, <tr>\n<td>M4H\n</td>\n<td>East York\n</td>\n<td>Thorncliffe Park\n</td></tr>, <tr>\n<td>M5H\n</td>\n<td>Downtown Toronto\n</td>\n<td>Richmond / Adelaide / King\n</td></tr>, <tr>\n<td>M6H\n</td>\n<td>West Toronto\n</td>\n<td>Dufferin / Dovercourt Village\n</td></tr>, <tr>\n<td>M7H\n</td>\n<td>Not assigned\n</td>\n<td>\n</td></tr>, <tr>\n<td>M8H\n</td>\n<td>Not assigned\n</td>\n<td>\n</td></tr>, <tr>\n<td>M9H\n</td>\n<td>Not assigned\n</td>\n<td>\n</td></tr>, <tr>\n<td>M1J\n</td>\n<td>Scarborough\n</td>\n<td>Scarborough Village\n</td></tr>, <tr>\n<td>M2J\n</td>\n<td>North York\n</td>\n<td>Fairview / Henry Farm / Oriole\n</td></tr>, <tr>\n<td>M3J\n</td>\n<td>North York\n</td>\n<td>Northwood Park / York University\n</td></tr>, <tr>\n<td>M4J\n</td>\n<td>East York\n</td>\n<td>East Toronto\n</td></tr>, <tr>\n<td>M5J\n</td>\n<td>Downtown Toronto\n</td>\n<td>Harbourfront East / Union Station / Toronto Islands\n</td></tr>, <tr>\n<td>M6J\n</td>\n<td>West Toronto\n</td>\n<td>Little Portugal / Trinity\n</td></tr>, <tr>\n<td>M7J\n</td>\n<td>Not assigned\n</td>\n<td>\n</td></tr>, <tr>\n<td>M8J\n</td>\n<td>Not assigned\n</td>\n<td>\n</td></tr>, <tr>\n<td>M9J\n</td>\n<td>Not assigned\n</td>\n<td>\n</td></tr>, <tr>\n<td>M1K\n</td>\n<td>Scarborough\n</td>\n<td>Kennedy Park / Ionview / East Birchmount Park\n</td></tr>, <tr>\n<td>M2K\n</td>\n<td>North York\n</td>\n<td>Bayview Village\n</td></tr>, <tr>\n<td>M3K\n</td>\n<td>North York\n</td>\n<td>Downsview\n</td></tr>, <tr>\n<td>M4K\n</td>\n<td>East Toronto\n</td>\n<td>The Danforth West / Riverdale\n</td></tr>, <tr>\n<td>M5K\n</td>\n<td>Downtown Toronto\n</td>\n<td>Toronto Dominion Centre / Design Exchange\n</td></tr>, <tr>\n<td>M6K\n</td>\n<td>West Toronto\n</td>\n<td>Brockton / Parkdale Village / Exhibition Place\n</td></tr>, <tr>\n<td>M7K\n</td>\n<td>Not assigned\n</td>\n<td>\n</td></tr>, <tr>\n<td>M8K\n</td>\n<td>Not assigned\n</td>\n<td>\n</td></tr>, <tr>\n<td>M9K\n</td>\n<td>Not assigned\n</td>\n<td>\n</td></tr>, <tr>\n<td>M1L\n</td>\n<td>Scarborough\n</td>\n<td>Golden Mile / Clairlea / Oakridge\n</td></tr>, <tr>\n<td>M2L\n</td>\n<td>North York\n</td>\n<td>York Mills / Silver Hills\n</td></tr>, <tr>\n<td>M3L\n</td>\n<td>North York\n</td>\n<td>Downsview\n</td></tr>, <tr>\n<td>M4L\n</td>\n<td>East Toronto\n</td>\n<td>India Bazaar / The Beaches West\n</td></tr>, <tr>\n<td>M5L\n</td>\n<td>Downtown Toronto\n</td>\n<td>Commerce Court / Victoria Hotel\n</td></tr>, <tr>\n<td>M6L\n</td>\n<td>North York\n</td>\n<td>North Park / Maple Leaf Park / Upwood Park\n</td></tr>, <tr>\n<td>M7L\n</td>\n<td>Not assigned\n</td>\n<td>\n</td></tr>, <tr>\n<td>M8L\n</td>\n<td>Not assigned\n</td>\n<td>\n</td></tr>, <tr>\n<td>M9L\n</td>\n<td>North York\n</td>\n<td>Humber Summit\n</td></tr>, <tr>\n<td>M1M\n</td>\n<td>Scarborough\n</td>\n<td>Cliffside / Cliffcrest / Scarborough Village West\n</td></tr>, <tr>\n<td>M2M\n</td>\n<td>North York\n</td>\n<td>Willowdale / Newtonbrook\n</td></tr>, <tr>\n<td>M3M\n</td>\n<td>North York\n</td>\n<td>Downsview\n</td></tr>, <tr>\n<td>M4M\n</td>\n<td>East Toronto\n</td>\n<td>Studio District\n</td></tr>, <tr>\n<td>M5M\n</td>\n<td>North York\n</td>\n<td>Bedford Park / Lawrence Manor East\n</td></tr>, <tr>\n<td>M6M\n</td>\n<td>York\n</td>\n<td>Del Ray / Mount Dennis / Keelsdale and Silverthorn\n</td></tr>, <tr>\n<td>M7M\n</td>\n<td>Not assigned\n</td>\n<td>\n</td></tr>, <tr>\n<td>M8M\n</td>\n<td>Not assigned\n</td>\n<td>\n</td></tr>, <tr>\n<td>M9M\n</td>\n<td>North York\n</td>\n<td>Humberlea / Emery\n</td></tr>, <tr>\n<td>M1N\n</td>\n<td>Scarborough\n</td>\n<td>Birch Cliff / Cliffside West\n</td></tr>, <tr>\n<td>M2N\n</td>\n<td>North York\n</td>\n<td>Willowdale\n</td></tr>, <tr>\n<td>M3N\n</td>\n<td>North York\n</td>\n<td>Downsview\n</td></tr>, <tr>\n<td>M4N\n</td>\n<td>Central Toronto\n</td>\n<td>Lawrence Park\n</td></tr>, <tr>\n<td>M5N\n</td>\n<td>Central Toronto\n</td>\n<td>Roselawn\n</td></tr>, <tr>\n<td>M6N\n</td>\n<td>York\n</td>\n<td>Runnymede / The Junction North\n</td></tr>, <tr>\n<td>M7N\n</td>\n<td>Not assigned\n</td>\n<td>\n</td></tr>, <tr>\n<td>M8N\n</td>\n<td>Not assigned\n</td>\n<td>\n</td></tr>, <tr>\n<td>M9N\n</td>\n<td>York\n</td>\n<td>Weston\n</td></tr>, <tr>\n<td>M1P\n</td>\n<td>Scarborough\n</td>\n<td>Dorset Park / Wexford Heights / Scarborough Town Centre\n</td></tr>, <tr>\n<td>M2P\n</td>\n<td>North York\n</td>\n<td>York Mills West\n</td></tr>, <tr>\n<td>M3P\n</td>\n<td>Not assigned\n</td>\n<td>\n</td></tr>, <tr>\n<td>M4P\n</td>\n<td>Central Toronto\n</td>\n<td>Davisville North\n</td></tr>, <tr>\n<td>M5P\n</td>\n<td>Central Toronto\n</td>\n<td>Forest Hill North &amp; West\n</td></tr>, <tr>\n<td>M6P\n</td>\n<td>West Toronto\n</td>\n<td>High Park / The Junction South\n</td></tr>, <tr>\n<td>M7P\n</td>\n<td>Not assigned\n</td>\n<td>\n</td></tr>, <tr>\n<td>M8P\n</td>\n<td>Not assigned\n</td>\n<td>\n</td></tr>, <tr>\n<td>M9P\n</td>\n<td>Etobicoke\n</td>\n<td>Westmount\n</td></tr>, <tr>\n<td>M1R\n</td>\n<td>Scarborough\n</td>\n<td>Wexford / Maryvale\n</td></tr>, <tr>\n<td>M2R\n</td>\n<td>North York\n</td>\n<td>Willowdale\n</td></tr>, <tr>\n<td>M3R\n</td>\n<td>Not assigned\n</td>\n<td>\n</td></tr>, <tr>\n<td>M4R\n</td>\n<td>Central Toronto\n</td>\n<td>North Toronto West\n</td></tr>, <tr>\n<td>M5R\n</td>\n<td>Central Toronto\n</td>\n<td>The Annex / North Midtown / Yorkville\n</td></tr>, <tr>\n<td>M6R\n</td>\n<td>West Toronto\n</td>\n<td>Parkdale / Roncesvalles\n</td></tr>, <tr>\n<td>M7R\n</td>\n<td>Mississauga\n</td>\n<td>Canada Post Gateway Processing Centre\n</td></tr>, <tr>\n<td>M8R\n</td>\n<td>Not assigned\n</td>\n<td>\n</td></tr>, <tr>\n<td>M9R\n</td>\n<td>Etobicoke\n</td>\n<td>Kingsview Village / St. Phillips / Martin Grove Gardens / Richview Gardens\n</td></tr>, <tr>\n<td>M1S\n</td>\n<td>Scarborough\n</td>\n<td>Agincourt\n</td></tr>, <tr>\n<td>M2S\n</td>\n<td>Not assigned\n</td>\n<td>\n</td></tr>, <tr>\n<td>M3S\n</td>\n<td>Not assigned\n</td>\n<td>\n</td></tr>, <tr>\n<td>M4S\n</td>\n<td>Central Toronto\n</td>\n<td>Davisville\n</td></tr>, <tr>\n<td>M5S\n</td>\n<td>Downtown Toronto\n</td>\n<td>University of Toronto / Harbord\n</td></tr>, <tr>\n<td>M6S\n</td>\n<td>West Toronto\n</td>\n<td>Runnymede / Swansea\n</td></tr>, <tr>\n<td>M7S\n</td>\n<td>Not assigned\n</td>\n<td>\n</td></tr>, <tr>\n<td>M8S\n</td>\n<td>Not assigned\n</td>\n<td>\n</td></tr>, <tr>\n<td>M9S\n</td>\n<td>Not assigned\n</td>\n<td>\n</td></tr>, <tr>\n<td>M1T\n</td>\n<td>Scarborough\n</td>\n<td>Clarks Corners / Tam O'Shanter / Sullivan\n</td></tr>, <tr>\n<td>M2T\n</td>\n<td>Not assigned\n</td>\n<td>\n</td></tr>, <tr>\n<td>M3T\n</td>\n<td>Not assigned\n</td>\n<td>\n</td></tr>, <tr>\n<td>M4T\n</td>\n<td>Central Toronto\n</td>\n<td>Moore Park / Summerhill East\n</td></tr>, <tr>\n<td>M5T\n</td>\n<td>Downtown Toronto\n</td>\n<td>Kensington Market / Chinatown / Grange Park\n</td></tr>, <tr>\n<td>M6T\n</td>\n<td>Not assigned\n</td>\n<td>\n</td></tr>, <tr>\n<td>M7T\n</td>\n<td>Not assigned\n</td>\n<td>\n</td></tr>, <tr>\n<td>M8T\n</td>\n<td>Not assigned\n</td>\n<td>\n</td></tr>, <tr>\n<td>M9T\n</td>\n<td>Not assigned\n</td>\n<td>\n</td></tr>, <tr>\n<td>M1V\n</td>\n<td>Scarborough\n</td>\n<td>Milliken / Agincourt North / Steeles East / L'Amoreaux East\n</td></tr>, <tr>\n<td>M2V\n</td>\n<td>Not assigned\n</td>\n<td>\n</td></tr>, <tr>\n<td>M3V\n</td>\n<td>Not assigned\n</td>\n<td>\n</td></tr>, <tr>\n<td>M4V\n</td>\n<td>Central Toronto\n</td>\n<td>Summerhill West / Rathnelly / South Hill / Forest Hill SE / Deer Park\n</td></tr>, <tr>\n<td>M5V\n</td>\n<td>Downtown Toronto\n</td>\n<td>CN Tower / King and Spadina / Railway Lands / Harbourfront West / Bathurst\n<pre> Quay / South Niagara / Island airport\n</pre>\n</td></tr>, <tr>\n<td>M6V\n</td>\n<td>Not assigned\n</td>\n<td>\n</td></tr>, <tr>\n<td>M7V\n</td>\n<td>Not assigned\n</td>\n<td>\n</td></tr>, <tr>\n<td>M8V\n</td>\n<td>Etobicoke\n</td>\n<td>New Toronto / Mimico South / Humber Bay Shores\n</td></tr>, <tr>\n<td>M9V\n</td>\n<td>Etobicoke\n</td>\n<td>South Steeles / Silverstone / Humbergate / Jamestown / Mount Olive / Beaumond Heights / Thistletown / Albion Gardens\n</td></tr>, <tr>\n<td>M1W\n</td>\n<td>Scarborough\n</td>\n<td>Steeles West / L'Amoreaux West\n</td></tr>, <tr>\n<td>M2W\n</td>\n<td>Not assigned\n</td>\n<td>\n</td></tr>, <tr>\n<td>M3W\n</td>\n<td>Not assigned\n</td>\n<td>\n</td></tr>, <tr>\n<td>M4W\n</td>\n<td>Downtown Toronto\n</td>\n<td>Rosedale\n</td></tr>, <tr>\n<td>M5W\n</td>\n<td>Downtown Toronto\n</td>\n<td>Stn A PO Boxes\n</td></tr>, <tr>\n<td>M6W\n</td>\n<td>Not assigned\n</td>\n<td>\n</td></tr>, <tr>\n<td>M7W\n</td>\n<td>Not assigned\n</td>\n<td>\n</td></tr>, <tr>\n<td>M8W\n</td>\n<td>Etobicoke\n</td>\n<td>Alderwood / Long Branch\n</td></tr>, <tr>\n<td>M9W\n</td>\n<td>Etobicoke\n</td>\n<td>Northwest\n</td></tr>, <tr>\n<td>M1X\n</td>\n<td>Scarborough\n</td>\n<td>Upper Rouge\n</td></tr>, <tr>\n<td>M2X\n</td>\n<td>Not assigned\n</td>\n<td>\n</td></tr>, <tr>\n<td>M3X\n</td>\n<td>Not assigned\n</td>\n<td>\n</td></tr>, <tr>\n<td>M4X\n</td>\n<td>Downtown Toronto\n</td>\n<td>St. James Town / Cabbagetown\n</td></tr>, <tr>\n<td>M5X\n</td>\n<td>Downtown Toronto\n</td>\n<td>First Canadian Place / Underground city\n</td></tr>, <tr>\n<td>M6X\n</td>\n<td>Not assigned\n</td>\n<td>\n</td></tr>, <tr>\n<td>M7X\n</td>\n<td>Not assigned\n</td>\n<td>\n</td></tr>, <tr>\n<td>M8X\n</td>\n<td>Etobicoke\n</td>\n<td>The Kingsway / Montgomery Road  / Old Mill North\n</td></tr>, <tr>\n<td>M9X\n</td>\n<td>Not assigned\n</td>\n<td>\n</td></tr>, <tr>\n<td>M1Y\n</td>\n<td>Not assigned\n</td>\n<td>\n</td></tr>, <tr>\n<td>M2Y\n</td>\n<td>Not assigned\n</td>\n<td>\n</td></tr>, <tr>\n<td>M3Y\n</td>\n<td>Not assigned\n</td>\n<td>\n</td></tr>, <tr>\n<td>M4Y\n</td>\n<td>Downtown Toronto\n</td>\n<td>Church and Wellesley\n</td></tr>, <tr>\n<td>M5Y\n</td>\n<td>Not assigned\n</td>\n<td>\n</td></tr>, <tr>\n<td>M6Y\n</td>\n<td>Not assigned\n</td>\n<td>\n</td></tr>, <tr>\n<td>M7Y\n</td>\n<td>East Toronto\n</td>\n<td>Business reply mail Processing CentrE\n</td></tr>, <tr>\n<td>M8Y\n</td>\n<td>Etobicoke\n</td>\n<td>Old Mill South / King's Mill Park / Sunnylea / Humber Bay / Mimico NE / The Queensway East / Royal York South East / Kingsway Park South East\n</td></tr>, <tr>\n<td>M9Y\n</td>\n<td>Not assigned\n</td>\n<td>\n</td></tr>, <tr>\n<td>M1Z\n</td>\n<td>Not assigned\n</td>\n<td>\n</td></tr>, <tr>\n<td>M2Z\n</td>\n<td>Not assigned\n</td>\n<td>\n</td></tr>, <tr>\n<td>M3Z\n</td>\n<td>Not assigned\n</td>\n<td>\n</td></tr>, <tr>\n<td>M4Z\n</td>\n<td>Not assigned\n</td>\n<td>\n</td></tr>, <tr>\n<td>M5Z\n</td>\n<td>Not assigned\n</td>\n<td>\n</td></tr>, <tr>\n<td>M6Z\n</td>\n<td>Not assigned\n</td>\n<td>\n</td></tr>, <tr>\n<td>M7Z\n</td>\n<td>Not assigned\n</td>\n<td>\n</td></tr>, <tr>\n<td>M8Z\n</td>\n<td>Etobicoke\n</td>\n<td>Mimico NW / The Queensway West / South of Bloor / Kingsway Park South West / Royal York South West\n</td></tr>, <tr>\n<td>M9Z\n</td>\n<td>Not assigned\n</td>\n<td>\n</td></tr>]\n",
                    "name": "stdout"
                }
            ]
        },
        {
            "metadata": {},
            "cell_type": "code",
            "source": "import re   \n\nlist_rows = []\nfor row in rows:\n    cells = row.find_all('td')\n    str_cells = str(cells)\n    clean = re.compile('<.*?>')\n    clean2 = (re.sub(clean, '',str_cells))\n    list_rows.append(clean2)\nprint(clean2)\ntype(clean2)",
            "execution_count": 4,
            "outputs": [
                {
                    "output_type": "stream",
                    "text": "[M9Z\n, Not assigned\n, \n]\n",
                    "name": "stdout"
                },
                {
                    "output_type": "execute_result",
                    "execution_count": 4,
                    "data": {
                        "text/plain": "str"
                    },
                    "metadata": {}
                }
            ]
        },
        {
            "metadata": {},
            "cell_type": "code",
            "source": "import pandas as pd\nimport numpy as np\n\ndf = pd.DataFrame(list_rows)  #turn the list into dataframe to allow operations\ndf.head(10)",
            "execution_count": 5,
            "outputs": [
                {
                    "output_type": "execute_result",
                    "execution_count": 5,
                    "data": {
                        "text/plain": "                                                   0\n0                                                 []\n1                        [M1A\\n, Not assigned\\n, \\n]\n2                        [M2A\\n, Not assigned\\n, \\n]\n3                 [M3A\\n, North York\\n, Parkwoods\\n]\n4          [M4A\\n, North York\\n, Victoria Village\\n]\n5  [M5A\\n, Downtown Toronto\\n, Regent Park / Harb...\n6  [M6A\\n, North York\\n, Lawrence Manor / Lawrenc...\n7  [M7A\\n, Downtown Toronto\\n, Queen's Park / Ont...\n8                        [M8A\\n, Not assigned\\n, \\n]\n9           [M9A\\n, Etobicoke\\n, Islington Avenue\\n]",
                        "text/html": "<div>\n<style scoped>\n    .dataframe tbody tr th:only-of-type {\n        vertical-align: middle;\n    }\n\n    .dataframe tbody tr th {\n        vertical-align: top;\n    }\n\n    .dataframe thead th {\n        text-align: right;\n    }\n</style>\n<table border=\"1\" class=\"dataframe\">\n  <thead>\n    <tr style=\"text-align: right;\">\n      <th></th>\n      <th>0</th>\n    </tr>\n  </thead>\n  <tbody>\n    <tr>\n      <th>0</th>\n      <td>[]</td>\n    </tr>\n    <tr>\n      <th>1</th>\n      <td>[M1A\\n, Not assigned\\n, \\n]</td>\n    </tr>\n    <tr>\n      <th>2</th>\n      <td>[M2A\\n, Not assigned\\n, \\n]</td>\n    </tr>\n    <tr>\n      <th>3</th>\n      <td>[M3A\\n, North York\\n, Parkwoods\\n]</td>\n    </tr>\n    <tr>\n      <th>4</th>\n      <td>[M4A\\n, North York\\n, Victoria Village\\n]</td>\n    </tr>\n    <tr>\n      <th>5</th>\n      <td>[M5A\\n, Downtown Toronto\\n, Regent Park / Harb...</td>\n    </tr>\n    <tr>\n      <th>6</th>\n      <td>[M6A\\n, North York\\n, Lawrence Manor / Lawrenc...</td>\n    </tr>\n    <tr>\n      <th>7</th>\n      <td>[M7A\\n, Downtown Toronto\\n, Queen's Park / Ont...</td>\n    </tr>\n    <tr>\n      <th>8</th>\n      <td>[M8A\\n, Not assigned\\n, \\n]</td>\n    </tr>\n    <tr>\n      <th>9</th>\n      <td>[M9A\\n, Etobicoke\\n, Islington Avenue\\n]</td>\n    </tr>\n  </tbody>\n</table>\n</div>"
                    },
                    "metadata": {}
                }
            ]
        },
        {
            "metadata": {},
            "cell_type": "code",
            "source": "df1 = df[0].str.split(',', expand=True) #expanding the data into columns\ndf1.head(10)",
            "execution_count": 6,
            "outputs": [
                {
                    "output_type": "execute_result",
                    "execution_count": 6,
                    "data": {
                        "text/plain": "        0                    1  \\\n0      []                 None   \n1  [M1A\\n       Not assigned\\n   \n2  [M2A\\n       Not assigned\\n   \n3  [M3A\\n         North York\\n   \n4  [M4A\\n         North York\\n   \n5  [M5A\\n   Downtown Toronto\\n   \n6  [M6A\\n         North York\\n   \n7  [M7A\\n   Downtown Toronto\\n   \n8  [M8A\\n       Not assigned\\n   \n9  [M9A\\n          Etobicoke\\n   \n\n                                                  2     3  \n0                                              None  None  \n1                                               \\n]  None  \n2                                               \\n]  None  \n3                                      Parkwoods\\n]  None  \n4                               Victoria Village\\n]  None  \n5                     Regent Park / Harbourfront\\n]  None  \n6              Lawrence Manor / Lawrence Heights\\n]  None  \n7   Queen's Park / Ontario Provincial Government\\n]  None  \n8                                               \\n]  None  \n9                               Islington Avenue\\n]  None  ",
                        "text/html": "<div>\n<style scoped>\n    .dataframe tbody tr th:only-of-type {\n        vertical-align: middle;\n    }\n\n    .dataframe tbody tr th {\n        vertical-align: top;\n    }\n\n    .dataframe thead th {\n        text-align: right;\n    }\n</style>\n<table border=\"1\" class=\"dataframe\">\n  <thead>\n    <tr style=\"text-align: right;\">\n      <th></th>\n      <th>0</th>\n      <th>1</th>\n      <th>2</th>\n      <th>3</th>\n    </tr>\n  </thead>\n  <tbody>\n    <tr>\n      <th>0</th>\n      <td>[]</td>\n      <td>None</td>\n      <td>None</td>\n      <td>None</td>\n    </tr>\n    <tr>\n      <th>1</th>\n      <td>[M1A\\n</td>\n      <td>Not assigned\\n</td>\n      <td>\\n]</td>\n      <td>None</td>\n    </tr>\n    <tr>\n      <th>2</th>\n      <td>[M2A\\n</td>\n      <td>Not assigned\\n</td>\n      <td>\\n]</td>\n      <td>None</td>\n    </tr>\n    <tr>\n      <th>3</th>\n      <td>[M3A\\n</td>\n      <td>North York\\n</td>\n      <td>Parkwoods\\n]</td>\n      <td>None</td>\n    </tr>\n    <tr>\n      <th>4</th>\n      <td>[M4A\\n</td>\n      <td>North York\\n</td>\n      <td>Victoria Village\\n]</td>\n      <td>None</td>\n    </tr>\n    <tr>\n      <th>5</th>\n      <td>[M5A\\n</td>\n      <td>Downtown Toronto\\n</td>\n      <td>Regent Park / Harbourfront\\n]</td>\n      <td>None</td>\n    </tr>\n    <tr>\n      <th>6</th>\n      <td>[M6A\\n</td>\n      <td>North York\\n</td>\n      <td>Lawrence Manor / Lawrence Heights\\n]</td>\n      <td>None</td>\n    </tr>\n    <tr>\n      <th>7</th>\n      <td>[M7A\\n</td>\n      <td>Downtown Toronto\\n</td>\n      <td>Queen's Park / Ontario Provincial Government\\n]</td>\n      <td>None</td>\n    </tr>\n    <tr>\n      <th>8</th>\n      <td>[M8A\\n</td>\n      <td>Not assigned\\n</td>\n      <td>\\n]</td>\n      <td>None</td>\n    </tr>\n    <tr>\n      <th>9</th>\n      <td>[M9A\\n</td>\n      <td>Etobicoke\\n</td>\n      <td>Islington Avenue\\n]</td>\n      <td>None</td>\n    </tr>\n  </tbody>\n</table>\n</div>"
                    },
                    "metadata": {}
                }
            ]
        },
        {
            "metadata": {},
            "cell_type": "code",
            "source": "# renaming the columns\n\nindexes=pd.Series(['PostalCode','Borough','Neighborhood']) #creating another dataframe and concatenating it to main dataframe\nind_df=pd.DataFrame([indexes]) \ndf2=pd.concat([ind_df,df1], ignore_index=True) \n\ndf2 = df2.rename(columns=df2.iloc[0]) #renaming the columns\ndf2.head()",
            "execution_count": 7,
            "outputs": [
                {
                    "output_type": "execute_result",
                    "execution_count": 7,
                    "data": {
                        "text/plain": "   PostalCode          Borough   Neighborhood   NaN\n0  PostalCode          Borough   Neighborhood   NaN\n1          []             None           None  None\n2      [M1A\\n   Not assigned\\n            \\n]  None\n3      [M2A\\n   Not assigned\\n            \\n]  None\n4      [M3A\\n     North York\\n   Parkwoods\\n]  None",
                        "text/html": "<div>\n<style scoped>\n    .dataframe tbody tr th:only-of-type {\n        vertical-align: middle;\n    }\n\n    .dataframe tbody tr th {\n        vertical-align: top;\n    }\n\n    .dataframe thead th {\n        text-align: right;\n    }\n</style>\n<table border=\"1\" class=\"dataframe\">\n  <thead>\n    <tr style=\"text-align: right;\">\n      <th></th>\n      <th>PostalCode</th>\n      <th>Borough</th>\n      <th>Neighborhood</th>\n      <th>nan</th>\n    </tr>\n  </thead>\n  <tbody>\n    <tr>\n      <th>0</th>\n      <td>PostalCode</td>\n      <td>Borough</td>\n      <td>Neighborhood</td>\n      <td>NaN</td>\n    </tr>\n    <tr>\n      <th>1</th>\n      <td>[]</td>\n      <td>None</td>\n      <td>None</td>\n      <td>None</td>\n    </tr>\n    <tr>\n      <th>2</th>\n      <td>[M1A\\n</td>\n      <td>Not assigned\\n</td>\n      <td>\\n]</td>\n      <td>None</td>\n    </tr>\n    <tr>\n      <th>3</th>\n      <td>[M2A\\n</td>\n      <td>Not assigned\\n</td>\n      <td>\\n]</td>\n      <td>None</td>\n    </tr>\n    <tr>\n      <th>4</th>\n      <td>[M3A\\n</td>\n      <td>North York\\n</td>\n      <td>Parkwoods\\n]</td>\n      <td>None</td>\n    </tr>\n  </tbody>\n</table>\n</div>"
                    },
                    "metadata": {}
                }
            ]
        },
        {
            "metadata": {},
            "cell_type": "code",
            "source": "# data wrangling (preparing data to analysis)\n\ndf2.drop([0], axis=0, inplace=True) #dropping an unnecessary row\ndf2.drop([1], axis=0, inplace=True) #dropping an unnecessary row\ndf2.drop(df2.columns[[3]], axis=1,inplace=True) #dropping an unnecessary column\n\n\n# data cleaning\n\ndf2['PostalCode'] = df2['PostalCode'].str.strip('[\\n]')\ndf2['Neighborhood'] = df2['Neighborhood'].str.strip(']')\ndf2['Neighborhood'] = df2['Neighborhood'].str.strip('\\n')\ndf2['Borough'] = df2['Borough'].str.strip('\\n')\ndf2['PostalCode'] = df2['PostalCode'].str.strip('\\n')\ndf2.head()\n",
            "execution_count": 8,
            "outputs": [
                {
                    "output_type": "execute_result",
                    "execution_count": 8,
                    "data": {
                        "text/plain": "  PostalCode            Borough                 Neighborhood\n2        M1A       Not assigned                             \n3        M2A       Not assigned                             \n4        M3A         North York                    Parkwoods\n5        M4A         North York             Victoria Village\n6        M5A   Downtown Toronto   Regent Park / Harbourfront",
                        "text/html": "<div>\n<style scoped>\n    .dataframe tbody tr th:only-of-type {\n        vertical-align: middle;\n    }\n\n    .dataframe tbody tr th {\n        vertical-align: top;\n    }\n\n    .dataframe thead th {\n        text-align: right;\n    }\n</style>\n<table border=\"1\" class=\"dataframe\">\n  <thead>\n    <tr style=\"text-align: right;\">\n      <th></th>\n      <th>PostalCode</th>\n      <th>Borough</th>\n      <th>Neighborhood</th>\n    </tr>\n  </thead>\n  <tbody>\n    <tr>\n      <th>2</th>\n      <td>M1A</td>\n      <td>Not assigned</td>\n      <td></td>\n    </tr>\n    <tr>\n      <th>3</th>\n      <td>M2A</td>\n      <td>Not assigned</td>\n      <td></td>\n    </tr>\n    <tr>\n      <th>4</th>\n      <td>M3A</td>\n      <td>North York</td>\n      <td>Parkwoods</td>\n    </tr>\n    <tr>\n      <th>5</th>\n      <td>M4A</td>\n      <td>North York</td>\n      <td>Victoria Village</td>\n    </tr>\n    <tr>\n      <th>6</th>\n      <td>M5A</td>\n      <td>Downtown Toronto</td>\n      <td>Regent Park / Harbourfront</td>\n    </tr>\n  </tbody>\n</table>\n</div>"
                    },
                    "metadata": {}
                }
            ]
        },
        {
            "metadata": {},
            "cell_type": "code",
            "source": "df2.astype('str').dtypes #arranging data types for further processes",
            "execution_count": 9,
            "outputs": [
                {
                    "output_type": "execute_result",
                    "execution_count": 9,
                    "data": {
                        "text/plain": "PostalCode      object\nBorough         object\nNeighborhood    object\ndtype: object"
                    },
                    "metadata": {}
                }
            ]
        },
        {
            "metadata": {},
            "cell_type": "code",
            "source": "# finding indexes to eliminate Not assigned values\n\nindex=df2[df2['Borough']==' Not assigned'].index \nindex",
            "execution_count": 10,
            "outputs": [
                {
                    "output_type": "execute_result",
                    "execution_count": 10,
                    "data": {
                        "text/plain": "Int64Index([  2,   3,   9,  12,  17,  18,  21,  26,  27,  30,  31,  35,  36,\n             37,  39,  40,  44,  45,  46,  53,  54,  55,  62,  63,  64,  71,\n             72,  73,  80,  81,  89,  90,  98,  99, 103, 107, 108, 112, 117,\n            120, 121, 125, 126, 127, 129, 130, 133, 134, 135, 136, 138, 139,\n            142, 143, 147, 148, 151, 152, 156, 157, 160, 161, 163, 164, 165,\n            166, 168, 169, 172, 173, 174, 175, 176, 177, 178, 179, 181],\n           dtype='int64')"
                    },
                    "metadata": {}
                }
            ]
        },
        {
            "metadata": {},
            "cell_type": "code",
            "source": "# dropping related rows\n\ndf2.drop([2,   3,   9,  12,  17,  18,  21,  26,  27,  30,  31,  35,  36,\n             37,  39,  40,  44,  45,  46,  53,  54,  55,  62,  63,  64,  71,\n             72,  73,  80,  81,  89,  90,  98,  99, 103, 107, 108, 112, 117,\n            120, 121, 125, 126, 127, 129, 130, 133, 134, 135, 136, 138, 139,\n            142, 143, 147, 148, 151, 152, 156, 157, 160, 161, 163, 164, 165,\n            166, 168, 169, 172, 173, 174, 175, 176, 177, 178, 179, 181], axis=0, inplace=True)\n",
            "execution_count": 12,
            "outputs": []
        },
        {
            "metadata": {},
            "cell_type": "code",
            "source": "df2.tail()",
            "execution_count": 14,
            "outputs": [
                {
                    "output_type": "execute_result",
                    "execution_count": 14,
                    "data": {
                        "text/plain": "    PostalCode            Borough  \\\n162        M8X          Etobicoke   \n167        M4Y   Downtown Toronto   \n170        M7Y       East Toronto   \n171        M8Y          Etobicoke   \n180        M8Z          Etobicoke   \n\n                                          Neighborhood  \n162   The Kingsway / Montgomery Road  / Old Mill North  \n167                               Church and Wellesley  \n170              Business reply mail Processing CentrE  \n171   Old Mill South / King's Mill Park / Sunnylea ...  \n180   Mimico NW / The Queensway West / South of Blo...  ",
                        "text/html": "<div>\n<style scoped>\n    .dataframe tbody tr th:only-of-type {\n        vertical-align: middle;\n    }\n\n    .dataframe tbody tr th {\n        vertical-align: top;\n    }\n\n    .dataframe thead th {\n        text-align: right;\n    }\n</style>\n<table border=\"1\" class=\"dataframe\">\n  <thead>\n    <tr style=\"text-align: right;\">\n      <th></th>\n      <th>PostalCode</th>\n      <th>Borough</th>\n      <th>Neighborhood</th>\n    </tr>\n  </thead>\n  <tbody>\n    <tr>\n      <th>162</th>\n      <td>M8X</td>\n      <td>Etobicoke</td>\n      <td>The Kingsway / Montgomery Road  / Old Mill North</td>\n    </tr>\n    <tr>\n      <th>167</th>\n      <td>M4Y</td>\n      <td>Downtown Toronto</td>\n      <td>Church and Wellesley</td>\n    </tr>\n    <tr>\n      <th>170</th>\n      <td>M7Y</td>\n      <td>East Toronto</td>\n      <td>Business reply mail Processing CentrE</td>\n    </tr>\n    <tr>\n      <th>171</th>\n      <td>M8Y</td>\n      <td>Etobicoke</td>\n      <td>Old Mill South / King's Mill Park / Sunnylea ...</td>\n    </tr>\n    <tr>\n      <th>180</th>\n      <td>M8Z</td>\n      <td>Etobicoke</td>\n      <td>Mimico NW / The Queensway West / South of Blo...</td>\n    </tr>\n  </tbody>\n</table>\n</div>"
                    },
                    "metadata": {}
                }
            ]
        },
        {
            "metadata": {},
            "cell_type": "code",
            "source": "",
            "execution_count": null,
            "outputs": []
        }
    ],
    "metadata": {
        "kernelspec": {
            "name": "python3",
            "display_name": "Python 3.6",
            "language": "python"
        },
        "language_info": {
            "name": "python",
            "version": "3.6.9",
            "mimetype": "text/x-python",
            "codemirror_mode": {
                "name": "ipython",
                "version": 3
            },
            "pygments_lexer": "ipython3",
            "nbconvert_exporter": "python",
            "file_extension": ".py"
        }
    },
    "nbformat": 4,
    "nbformat_minor": 1
}